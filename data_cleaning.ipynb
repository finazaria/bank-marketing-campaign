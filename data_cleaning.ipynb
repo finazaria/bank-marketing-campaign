{
 "cells": [
  {
   "cell_type": "markdown",
   "id": "551a4cb3",
   "metadata": {},
   "source": [
    "## About the dataset"
   ]
  },
  {
   "cell_type": "code",
   "execution_count": 1,
   "id": "94044a5c-eaf1-494d-b591-63ee16a45f42",
   "metadata": {},
   "outputs": [],
   "source": [
    "# import libraries needed\n",
    "from scipy import stats\n",
    "import pandas as pd\n",
    "import numpy as np\n",
    "import matplotlib.pyplot as plt"
   ]
  },
  {
   "cell_type": "code",
   "execution_count": 2,
   "id": "ec0a3327-8195-4ed9-97c8-3814c2bff8d9",
   "metadata": {},
   "outputs": [],
   "source": [
    "bank_dataset = pd.read_csv('dataset_bank_marketing.csv', low_memory=False)"
   ]
  },
  {
   "cell_type": "code",
   "execution_count": 3,
   "id": "8c484df2",
   "metadata": {},
   "outputs": [
    {
     "data": {
      "text/html": [
       "<div>\n",
       "<style scoped>\n",
       "    .dataframe tbody tr th:only-of-type {\n",
       "        vertical-align: middle;\n",
       "    }\n",
       "\n",
       "    .dataframe tbody tr th {\n",
       "        vertical-align: top;\n",
       "    }\n",
       "\n",
       "    .dataframe thead th {\n",
       "        text-align: right;\n",
       "    }\n",
       "</style>\n",
       "<table border=\"1\" class=\"dataframe\">\n",
       "  <thead>\n",
       "    <tr style=\"text-align: right;\">\n",
       "      <th></th>\n",
       "      <th>age</th>\n",
       "      <th>job</th>\n",
       "      <th>marital</th>\n",
       "      <th>education</th>\n",
       "      <th>default</th>\n",
       "      <th>balance</th>\n",
       "      <th>housing</th>\n",
       "      <th>loan</th>\n",
       "      <th>contact</th>\n",
       "      <th>day</th>\n",
       "      <th>month</th>\n",
       "      <th>duration</th>\n",
       "      <th>campaign</th>\n",
       "      <th>pdays</th>\n",
       "      <th>previous</th>\n",
       "      <th>poutcome</th>\n",
       "      <th>y</th>\n",
       "    </tr>\n",
       "  </thead>\n",
       "  <tbody>\n",
       "    <tr>\n",
       "      <th>0</th>\n",
       "      <td>58</td>\n",
       "      <td>management</td>\n",
       "      <td>married</td>\n",
       "      <td>tertiary</td>\n",
       "      <td>no</td>\n",
       "      <td>NaN</td>\n",
       "      <td>yes</td>\n",
       "      <td>no</td>\n",
       "      <td>NaN</td>\n",
       "      <td>5</td>\n",
       "      <td>may</td>\n",
       "      <td>261</td>\n",
       "      <td>1</td>\n",
       "      <td>-1</td>\n",
       "      <td>0</td>\n",
       "      <td>unknown</td>\n",
       "      <td>no</td>\n",
       "    </tr>\n",
       "    <tr>\n",
       "      <th>1</th>\n",
       "      <td>44</td>\n",
       "      <td>technician</td>\n",
       "      <td>single</td>\n",
       "      <td>secondary</td>\n",
       "      <td>no</td>\n",
       "      <td>29.0</td>\n",
       "      <td>yes</td>\n",
       "      <td>no</td>\n",
       "      <td>NaN</td>\n",
       "      <td>5</td>\n",
       "      <td>may</td>\n",
       "      <td>151</td>\n",
       "      <td>1</td>\n",
       "      <td>-1</td>\n",
       "      <td>0</td>\n",
       "      <td>unknown</td>\n",
       "      <td>no</td>\n",
       "    </tr>\n",
       "    <tr>\n",
       "      <th>2</th>\n",
       "      <td>33</td>\n",
       "      <td>entrepreneur</td>\n",
       "      <td>married</td>\n",
       "      <td>secondary</td>\n",
       "      <td>no</td>\n",
       "      <td>2.0</td>\n",
       "      <td>yes</td>\n",
       "      <td>yes</td>\n",
       "      <td>NaN</td>\n",
       "      <td>5</td>\n",
       "      <td>may</td>\n",
       "      <td>76</td>\n",
       "      <td>1</td>\n",
       "      <td>-1</td>\n",
       "      <td>0</td>\n",
       "      <td>unknown</td>\n",
       "      <td>no</td>\n",
       "    </tr>\n",
       "    <tr>\n",
       "      <th>3</th>\n",
       "      <td>47</td>\n",
       "      <td>blue-collar</td>\n",
       "      <td>married</td>\n",
       "      <td>NaN</td>\n",
       "      <td>no</td>\n",
       "      <td>1506.0</td>\n",
       "      <td>yes</td>\n",
       "      <td>no</td>\n",
       "      <td>NaN</td>\n",
       "      <td>5</td>\n",
       "      <td>may</td>\n",
       "      <td>92</td>\n",
       "      <td>1</td>\n",
       "      <td>-1</td>\n",
       "      <td>0</td>\n",
       "      <td>unknown</td>\n",
       "      <td>no</td>\n",
       "    </tr>\n",
       "    <tr>\n",
       "      <th>4</th>\n",
       "      <td>33</td>\n",
       "      <td>unknown</td>\n",
       "      <td>single</td>\n",
       "      <td>NaN</td>\n",
       "      <td>no</td>\n",
       "      <td>1.0</td>\n",
       "      <td>no</td>\n",
       "      <td>no</td>\n",
       "      <td>NaN</td>\n",
       "      <td>5</td>\n",
       "      <td>may</td>\n",
       "      <td>198</td>\n",
       "      <td>1</td>\n",
       "      <td>-1</td>\n",
       "      <td>0</td>\n",
       "      <td>unknown</td>\n",
       "      <td>no</td>\n",
       "    </tr>\n",
       "  </tbody>\n",
       "</table>\n",
       "</div>"
      ],
      "text/plain": [
       "   age           job  marital  education default  balance housing loan  \\\n",
       "0   58    management  married   tertiary      no      NaN     yes   no   \n",
       "1   44    technician   single  secondary      no     29.0     yes   no   \n",
       "2   33  entrepreneur  married  secondary      no      2.0     yes  yes   \n",
       "3   47   blue-collar  married        NaN      no   1506.0     yes   no   \n",
       "4   33       unknown   single        NaN      no      1.0      no   no   \n",
       "\n",
       "  contact  day month  duration  campaign  pdays  previous poutcome   y  \n",
       "0     NaN    5   may       261         1     -1         0  unknown  no  \n",
       "1     NaN    5   may       151         1     -1         0  unknown  no  \n",
       "2     NaN    5   may        76         1     -1         0  unknown  no  \n",
       "3     NaN    5   may        92         1     -1         0  unknown  no  \n",
       "4     NaN    5   may       198         1     -1         0  unknown  no  "
      ]
     },
     "execution_count": 3,
     "metadata": {},
     "output_type": "execute_result"
    }
   ],
   "source": [
    "# Get first view about the data\n",
    "bank_dataset.head()"
   ]
  },
  {
   "cell_type": "code",
   "execution_count": 4,
   "id": "1a63afc7",
   "metadata": {},
   "outputs": [
    {
     "data": {
      "text/plain": [
       "(45211, 17)"
      ]
     },
     "execution_count": 4,
     "metadata": {},
     "output_type": "execute_result"
    }
   ],
   "source": [
    "bank_dataset.shape"
   ]
  },
  {
   "cell_type": "code",
   "execution_count": 5,
   "id": "9d7aff6f",
   "metadata": {},
   "outputs": [
    {
     "name": "stdout",
     "output_type": "stream",
     "text": [
      "<class 'pandas.core.frame.DataFrame'>\n",
      "RangeIndex: 45211 entries, 0 to 45210\n",
      "Data columns (total 17 columns):\n",
      " #   Column     Non-Null Count  Dtype  \n",
      "---  ------     --------------  -----  \n",
      " 0   age        45211 non-null  int64  \n",
      " 1   job        45211 non-null  object \n",
      " 2   marital    45211 non-null  object \n",
      " 3   education  43354 non-null  object \n",
      " 4   default    45211 non-null  object \n",
      " 5   balance    42313 non-null  float64\n",
      " 6   housing    45211 non-null  object \n",
      " 7   loan       45211 non-null  object \n",
      " 8   contact    32191 non-null  object \n",
      " 9   day        45211 non-null  int64  \n",
      " 10  month      45211 non-null  object \n",
      " 11  duration   45211 non-null  int64  \n",
      " 12  campaign   45211 non-null  int64  \n",
      " 13  pdays      45211 non-null  int64  \n",
      " 14  previous   45211 non-null  int64  \n",
      " 15  poutcome   45211 non-null  object \n",
      " 16  y          45211 non-null  object \n",
      "dtypes: float64(1), int64(6), object(10)\n",
      "memory usage: 5.9+ MB\n"
     ]
    }
   ],
   "source": [
    "bank_dataset.info()"
   ]
  },
  {
   "cell_type": "code",
   "execution_count": 6,
   "id": "abe64ed4",
   "metadata": {},
   "outputs": [
    {
     "data": {
      "text/html": [
       "<div>\n",
       "<style scoped>\n",
       "    .dataframe tbody tr th:only-of-type {\n",
       "        vertical-align: middle;\n",
       "    }\n",
       "\n",
       "    .dataframe tbody tr th {\n",
       "        vertical-align: top;\n",
       "    }\n",
       "\n",
       "    .dataframe thead th {\n",
       "        text-align: right;\n",
       "    }\n",
       "</style>\n",
       "<table border=\"1\" class=\"dataframe\">\n",
       "  <thead>\n",
       "    <tr style=\"text-align: right;\">\n",
       "      <th></th>\n",
       "      <th>age</th>\n",
       "      <th>balance</th>\n",
       "      <th>day</th>\n",
       "      <th>duration</th>\n",
       "      <th>campaign</th>\n",
       "      <th>pdays</th>\n",
       "      <th>previous</th>\n",
       "    </tr>\n",
       "  </thead>\n",
       "  <tbody>\n",
       "    <tr>\n",
       "      <th>count</th>\n",
       "      <td>45211.000000</td>\n",
       "      <td>42313.000000</td>\n",
       "      <td>45211.000000</td>\n",
       "      <td>45211.000000</td>\n",
       "      <td>45211.000000</td>\n",
       "      <td>45211.000000</td>\n",
       "      <td>45211.000000</td>\n",
       "    </tr>\n",
       "    <tr>\n",
       "      <th>mean</th>\n",
       "      <td>40.936210</td>\n",
       "      <td>1287.681989</td>\n",
       "      <td>15.806419</td>\n",
       "      <td>258.163080</td>\n",
       "      <td>2.763841</td>\n",
       "      <td>40.197828</td>\n",
       "      <td>0.580323</td>\n",
       "    </tr>\n",
       "    <tr>\n",
       "      <th>std</th>\n",
       "      <td>10.618762</td>\n",
       "      <td>3132.224623</td>\n",
       "      <td>8.322476</td>\n",
       "      <td>257.527812</td>\n",
       "      <td>3.098021</td>\n",
       "      <td>100.128746</td>\n",
       "      <td>2.303441</td>\n",
       "    </tr>\n",
       "    <tr>\n",
       "      <th>min</th>\n",
       "      <td>18.000000</td>\n",
       "      <td>-8019.000000</td>\n",
       "      <td>1.000000</td>\n",
       "      <td>0.000000</td>\n",
       "      <td>1.000000</td>\n",
       "      <td>-1.000000</td>\n",
       "      <td>0.000000</td>\n",
       "    </tr>\n",
       "    <tr>\n",
       "      <th>25%</th>\n",
       "      <td>33.000000</td>\n",
       "      <td>55.000000</td>\n",
       "      <td>8.000000</td>\n",
       "      <td>103.000000</td>\n",
       "      <td>1.000000</td>\n",
       "      <td>-1.000000</td>\n",
       "      <td>0.000000</td>\n",
       "    </tr>\n",
       "    <tr>\n",
       "      <th>50%</th>\n",
       "      <td>39.000000</td>\n",
       "      <td>385.000000</td>\n",
       "      <td>16.000000</td>\n",
       "      <td>180.000000</td>\n",
       "      <td>2.000000</td>\n",
       "      <td>-1.000000</td>\n",
       "      <td>0.000000</td>\n",
       "    </tr>\n",
       "    <tr>\n",
       "      <th>75%</th>\n",
       "      <td>48.000000</td>\n",
       "      <td>1135.000000</td>\n",
       "      <td>21.000000</td>\n",
       "      <td>319.000000</td>\n",
       "      <td>3.000000</td>\n",
       "      <td>-1.000000</td>\n",
       "      <td>0.000000</td>\n",
       "    </tr>\n",
       "    <tr>\n",
       "      <th>max</th>\n",
       "      <td>95.000000</td>\n",
       "      <td>102127.000000</td>\n",
       "      <td>31.000000</td>\n",
       "      <td>4918.000000</td>\n",
       "      <td>63.000000</td>\n",
       "      <td>871.000000</td>\n",
       "      <td>275.000000</td>\n",
       "    </tr>\n",
       "  </tbody>\n",
       "</table>\n",
       "</div>"
      ],
      "text/plain": [
       "                age        balance           day      duration      campaign  \\\n",
       "count  45211.000000   42313.000000  45211.000000  45211.000000  45211.000000   \n",
       "mean      40.936210    1287.681989     15.806419    258.163080      2.763841   \n",
       "std       10.618762    3132.224623      8.322476    257.527812      3.098021   \n",
       "min       18.000000   -8019.000000      1.000000      0.000000      1.000000   \n",
       "25%       33.000000      55.000000      8.000000    103.000000      1.000000   \n",
       "50%       39.000000     385.000000     16.000000    180.000000      2.000000   \n",
       "75%       48.000000    1135.000000     21.000000    319.000000      3.000000   \n",
       "max       95.000000  102127.000000     31.000000   4918.000000     63.000000   \n",
       "\n",
       "              pdays      previous  \n",
       "count  45211.000000  45211.000000  \n",
       "mean      40.197828      0.580323  \n",
       "std      100.128746      2.303441  \n",
       "min       -1.000000      0.000000  \n",
       "25%       -1.000000      0.000000  \n",
       "50%       -1.000000      0.000000  \n",
       "75%       -1.000000      0.000000  \n",
       "max      871.000000    275.000000  "
      ]
     },
     "execution_count": 6,
     "metadata": {},
     "output_type": "execute_result"
    }
   ],
   "source": [
    "bank_dataset.describe()"
   ]
  },
  {
   "cell_type": "markdown",
   "id": "99d9952b",
   "metadata": {},
   "source": [
    "## Handling null values"
   ]
  },
  {
   "cell_type": "code",
   "execution_count": 7,
   "id": "958f98b3",
   "metadata": {},
   "outputs": [
    {
     "data": {
      "text/plain": [
       "age              0\n",
       "job              0\n",
       "marital          0\n",
       "education     1857\n",
       "default          0\n",
       "balance       2898\n",
       "housing          0\n",
       "loan             0\n",
       "contact      13020\n",
       "day              0\n",
       "month            0\n",
       "duration         0\n",
       "campaign         0\n",
       "pdays            0\n",
       "previous         0\n",
       "poutcome         0\n",
       "y                0\n",
       "dtype: int64"
      ]
     },
     "execution_count": 7,
     "metadata": {},
     "output_type": "execute_result"
    }
   ],
   "source": [
    "# Checking null value in the dataset\n",
    "bank_dataset.isnull().sum(axis = 0)"
   ]
  },
  {
   "cell_type": "code",
   "execution_count": 8,
   "id": "6c1d19a7",
   "metadata": {},
   "outputs": [
    {
     "name": "stdout",
     "output_type": "stream",
     "text": [
      "Education's unique value : \n",
      "['tertiary' 'secondary' nan 'primary']\n"
     ]
    }
   ],
   "source": [
    "# Check unique value of the null valued columns; Education\n",
    "print(\"Education's unique value : \")\n",
    "print(bank_dataset['education'].unique())"
   ]
  },
  {
   "cell_type": "code",
   "execution_count": 9,
   "id": "94044f5f",
   "metadata": {},
   "outputs": [],
   "source": [
    "# Change \"education\" column NaN value with \"unknown\"\n",
    "bank_dataset['education'].fillna(\"unknown\", inplace = True)"
   ]
  },
  {
   "cell_type": "code",
   "execution_count": 10,
   "id": "12f70e08",
   "metadata": {},
   "outputs": [
    {
     "name": "stdout",
     "output_type": "stream",
     "text": [
      "['tertiary' 'secondary' 'unknown' 'primary']\n"
     ]
    }
   ],
   "source": [
    "# Change \"balance\" column null value with mode value of the column\n",
    "# Fill it with mode => most people's amount of balance in their bank account\n",
    "bank_dataset['balance'].fillna(bank_dataset['balance'].mode()[0], inplace = True)\n",
    "\n",
    "# Re-check the null values\n",
    "print(bank_dataset['education'].unique())\n"
   ]
  },
  {
   "cell_type": "code",
   "execution_count": 11,
   "id": "e767049f",
   "metadata": {},
   "outputs": [
    {
     "name": "stdout",
     "output_type": "stream",
     "text": [
      "Contact's unique value : \n",
      "[nan 'cellular' 'telephone']\n"
     ]
    }
   ],
   "source": [
    "# Check unique value of the null valued columns; Contact\n",
    "print(\"Contact's unique value : \")\n",
    "print(bank_dataset['contact'].unique())"
   ]
  },
  {
   "cell_type": "code",
   "execution_count": 12,
   "id": "593413f9",
   "metadata": {},
   "outputs": [
    {
     "name": "stdout",
     "output_type": "stream",
     "text": [
      "['unknown' 'cellular' 'telephone']\n"
     ]
    }
   ],
   "source": [
    "# Change \"contact\" column NaN value with \"unknown\"\n",
    "bank_dataset['contact'].fillna(\"unknown\", inplace = True)\n",
    "\n",
    "# Re-check the null values\n",
    "print(bank_dataset['contact'].unique())"
   ]
  },
  {
   "cell_type": "code",
   "execution_count": 13,
   "id": "4a736796",
   "metadata": {},
   "outputs": [
    {
     "data": {
      "text/plain": [
       "age          0\n",
       "job          0\n",
       "marital      0\n",
       "education    0\n",
       "default      0\n",
       "balance      0\n",
       "housing      0\n",
       "loan         0\n",
       "contact      0\n",
       "day          0\n",
       "month        0\n",
       "duration     0\n",
       "campaign     0\n",
       "pdays        0\n",
       "previous     0\n",
       "poutcome     0\n",
       "y            0\n",
       "dtype: int64"
      ]
     },
     "execution_count": 13,
     "metadata": {},
     "output_type": "execute_result"
    }
   ],
   "source": [
    "# Re-check null value in the dataset after being fixed\n",
    "bank_dataset.isnull().sum(axis = 0)"
   ]
  },
  {
   "cell_type": "markdown",
   "id": "23205a97",
   "metadata": {},
   "source": [
    "## Handling duplicated and mistyped values"
   ]
  },
  {
   "cell_type": "code",
   "execution_count": 14,
   "id": "120cc452",
   "metadata": {},
   "outputs": [
    {
     "name": "stdout",
     "output_type": "stream",
     "text": [
      "<class 'pandas.core.frame.DataFrame'>\n",
      "RangeIndex: 45211 entries, 0 to 45210\n",
      "Data columns (total 17 columns):\n",
      " #   Column     Non-Null Count  Dtype  \n",
      "---  ------     --------------  -----  \n",
      " 0   age        45211 non-null  int64  \n",
      " 1   job        45211 non-null  object \n",
      " 2   marital    45211 non-null  object \n",
      " 3   education  45211 non-null  object \n",
      " 4   default    45211 non-null  object \n",
      " 5   balance    45211 non-null  float64\n",
      " 6   housing    45211 non-null  object \n",
      " 7   loan       45211 non-null  object \n",
      " 8   contact    45211 non-null  object \n",
      " 9   day        45211 non-null  int64  \n",
      " 10  month      45211 non-null  object \n",
      " 11  duration   45211 non-null  int64  \n",
      " 12  campaign   45211 non-null  int64  \n",
      " 13  pdays      45211 non-null  int64  \n",
      " 14  previous   45211 non-null  int64  \n",
      " 15  poutcome   45211 non-null  object \n",
      " 16  y          45211 non-null  object \n",
      "dtypes: float64(1), int64(6), object(10)\n",
      "memory usage: 5.9+ MB\n"
     ]
    }
   ],
   "source": [
    "bank_dataset.info()"
   ]
  },
  {
   "cell_type": "code",
   "execution_count": 15,
   "id": "617f7155",
   "metadata": {},
   "outputs": [
    {
     "data": {
      "text/plain": [
       "0"
      ]
     },
     "execution_count": 15,
     "metadata": {},
     "output_type": "execute_result"
    }
   ],
   "source": [
    "# Check for duplicated rows\n",
    "bank_dataset.duplicated(keep=False).sum()"
   ]
  },
  {
   "cell_type": "markdown",
   "id": "6b9f08e3",
   "metadata": {},
   "source": [
    "### Job"
   ]
  },
  {
   "cell_type": "code",
   "execution_count": 16,
   "id": "88f4baca",
   "metadata": {},
   "outputs": [
    {
     "name": "stdout",
     "output_type": "stream",
     "text": [
      "['management' 'technician' 'entrepreneur' 'blue-collar' 'unknown'\n",
      " 'retired' 'admin.' 'services' 'administrator' 'self-employed' 'admin'\n",
      " 'unemployed' 'housemaid' 'student']\n"
     ]
    }
   ],
   "source": [
    "# Check mistyped value only with the \"object\" type columns\n",
    "print(bank_dataset['job'].unique())"
   ]
  },
  {
   "cell_type": "code",
   "execution_count": 17,
   "id": "ed598287",
   "metadata": {},
   "outputs": [],
   "source": [
    "# Found similar jobs : admin. admin and administrator\n",
    "# Change admin. and administrator to \"admin\"\n",
    "bank_dataset['job'] = bank_dataset['job'].replace(['admin.', 'administrator'], 'admin')\n"
   ]
  },
  {
   "cell_type": "code",
   "execution_count": 18,
   "id": "1890258c",
   "metadata": {},
   "outputs": [
    {
     "name": "stdout",
     "output_type": "stream",
     "text": [
      "['management' 'technician' 'entrepreneur' 'blue-collar' 'unknown'\n",
      " 'retired' 'admin' 'services' 'self-employed' 'unemployed' 'housemaid'\n",
      " 'student']\n"
     ]
    }
   ],
   "source": [
    "print(bank_dataset['job'].unique())"
   ]
  },
  {
   "cell_type": "markdown",
   "id": "2bd5aaa8",
   "metadata": {},
   "source": [
    "### Marital"
   ]
  },
  {
   "cell_type": "code",
   "execution_count": 19,
   "id": "690a36f2",
   "metadata": {},
   "outputs": [
    {
     "name": "stdout",
     "output_type": "stream",
     "text": [
      "['married' 'single' 'divorced' '2023' '-1' 'blue-collar' 'may' 'november'\n",
      " 'february' 'march' '-122' '135' '2016' '1293' 'management' '675' 'yes'\n",
      " 'student' 'no' '366' '1997' 'housemaid']\n"
     ]
    }
   ],
   "source": [
    "# Check mistyped value only with the \"object\" type columns\n",
    "print(bank_dataset['marital'].unique())"
   ]
  },
  {
   "cell_type": "markdown",
   "id": "c270a517",
   "metadata": {},
   "source": [
    "Asumptions : \n",
    "- The people who answered \"Yes\" are married. Hence, going to change it to \"married\". \n",
    "- And the people who answered \"No\" are single. Hence, going to change it to \"single\"."
   ]
  },
  {
   "cell_type": "code",
   "execution_count": 20,
   "id": "52571610",
   "metadata": {},
   "outputs": [],
   "source": [
    "bank_dataset['marital'] = bank_dataset['marital'].replace('yes', 'married')\n",
    "bank_dataset['marital'] = bank_dataset['marital'].replace('no', 'single')"
   ]
  },
  {
   "cell_type": "code",
   "execution_count": 21,
   "id": "6c5d49a3",
   "metadata": {},
   "outputs": [
    {
     "name": "stdout",
     "output_type": "stream",
     "text": [
      "['married' 'single' 'divorced' '2023' '-1' 'blue-collar' 'may' 'november'\n",
      " 'february' 'march' '-122' '135' '2016' '1293' 'management' '675'\n",
      " 'student' '366' '1997' 'housemaid']\n"
     ]
    }
   ],
   "source": [
    "# Re-check the values that are just being changed\n",
    "print(bank_dataset['marital'].unique())"
   ]
  },
  {
   "cell_type": "code",
   "execution_count": 22,
   "id": "68ac06aa",
   "metadata": {},
   "outputs": [
    {
     "name": "stdout",
     "output_type": "stream",
     "text": [
      "['married' 'single' 'divorced' 'unknown']\n"
     ]
    }
   ],
   "source": [
    "# Change the values that are not either \"married\", \"single\", or \"divorced\", into \"unknown\"\n",
    "bank_dataset.loc[~bank_dataset['marital'].isin([\"married\", \"single\", \"divorced\"]), 'marital'] = \"unknown\"\n",
    "\n",
    "# Re-check unique values\n",
    "print(bank_dataset['marital'].unique())"
   ]
  },
  {
   "cell_type": "markdown",
   "id": "963f0ae2",
   "metadata": {},
   "source": [
    "### Other object typed columns"
   ]
  },
  {
   "cell_type": "code",
   "execution_count": 23,
   "id": "373a836d",
   "metadata": {},
   "outputs": [
    {
     "name": "stdout",
     "output_type": "stream",
     "text": [
      "['no' 'yes']\n",
      "['yes' 'no']\n",
      "['may' 'jun' 'jul' 'aug' 'oct' 'nov' 'dec' 'jan' 'feb' 'mar' 'apr' 'sep']\n",
      "['unknown' 'failure' 'other' 'success']\n",
      "['no' 'yes']\n"
     ]
    }
   ],
   "source": [
    "# Check mistyped value only with the \"object\" type columns\n",
    "print(bank_dataset['default'].unique())\n",
    "print(bank_dataset['housing'].unique())\n",
    "print(bank_dataset['month'].unique())\n",
    "print(bank_dataset['poutcome'].unique())\n",
    "print(bank_dataset['y'].unique())"
   ]
  },
  {
   "cell_type": "markdown",
   "id": "eee37834",
   "metadata": {},
   "source": [
    "## Handling Outliers\n",
    "Check for outliers on the numeric columns"
   ]
  },
  {
   "cell_type": "code",
   "execution_count": 24,
   "id": "42baa5d2",
   "metadata": {},
   "outputs": [],
   "source": [
    "bank_dataset_copy = bank_dataset.copy()\n",
    "num_col = ['age', 'balance', 'day', 'duration', 'campaign', 'pdays', 'previous']\n",
    "dataset_num = bank_dataset_copy[num_col]"
   ]
  },
  {
   "cell_type": "code",
   "execution_count": 25,
   "id": "a979989b",
   "metadata": {},
   "outputs": [
    {
     "name": "stdout",
     "output_type": "stream",
     "text": [
      "          Total Outliers   Percent\n",
      "age                  487  0.010772\n",
      "balance             5652  0.125014\n",
      "duration            3235  0.071553\n",
      "campaign            3064  0.067771\n",
      "pdays               8257  0.182633\n",
      "previous            8257  0.182633\n"
     ]
    }
   ],
   "source": [
    "Q1 = dataset_num.quantile(0.25)\n",
    "Q3 = dataset_num.quantile(0.75)\n",
    "IQR = Q3 - Q1\n",
    "\n",
    "def check_outliers(df):\n",
    "    outliers = ((dataset_num < (Q1 - 1.5 * IQR)) | (dataset_num > (Q3 + 1.5 * IQR))).sum()\n",
    "    percent = outliers / len(df)\n",
    "\n",
    "    outliers_data = pd.concat([outliers, percent], axis=1, keys=['Total Outliers', 'Percent'])\n",
    "    print(outliers_data[outliers_data['Total Outliers'] > 0])\n",
    "\n",
    "check_outliers(dataset_num)"
   ]
  },
  {
   "cell_type": "code",
   "execution_count": 26,
   "id": "1a16873a",
   "metadata": {},
   "outputs": [
    {
     "data": {
      "text/plain": [
       "array([[<AxesSubplot: title={'center': 'age'}>,\n",
       "        <AxesSubplot: title={'center': 'balance'}>,\n",
       "        <AxesSubplot: title={'center': 'day'}>],\n",
       "       [<AxesSubplot: title={'center': 'duration'}>,\n",
       "        <AxesSubplot: title={'center': 'campaign'}>,\n",
       "        <AxesSubplot: title={'center': 'pdays'}>],\n",
       "       [<AxesSubplot: title={'center': 'previous'}>, <AxesSubplot: >,\n",
       "        <AxesSubplot: >]], dtype=object)"
      ]
     },
     "execution_count": 26,
     "metadata": {},
     "output_type": "execute_result"
    },
    {
     "data": {
      "image/png": "[encoded data removed]",
      "text/plain": [
       "<Figure size 1440x1440 with 9 Axes>"
      ]
     },
     "metadata": {
      "needs_background": "light"
     },
     "output_type": "display_data"
    }
   ],
   "source": [
    "pd.DataFrame(dataset_num).hist(figsize=(20,20))"
   ]
  },
  {
   "cell_type": "code",
   "execution_count": 27,
   "id": "c2d48957",
   "metadata": {},
   "outputs": [
    {
     "data": {
      "text/plain": [
       "<function matplotlib.pyplot.show(close=None, block=None)>"
      ]
     },
     "execution_count": 27,
     "metadata": {},
     "output_type": "execute_result"
    },
    {
     "data": {
      "image/png": "[encoded data removed]",
      "text/plain": [
       "<Figure size 432x288 with 1 Axes>"
      ]
     },
     "metadata": {
      "needs_background": "light"
     },
     "output_type": "display_data"
    }
   ],
   "source": [
    "fig = plt.figure()\n",
    "plt.boxplot(bank_dataset['balance'])\n",
    "plt.show"
   ]
  },
  {
   "cell_type": "code",
   "execution_count": 28,
   "id": "2ae39430",
   "metadata": {},
   "outputs": [
    {
     "data": {
      "text/plain": [
       "<function matplotlib.pyplot.show(close=None, block=None)>"
      ]
     },
     "execution_count": 28,
     "metadata": {},
     "output_type": "execute_result"
    },
    {
     "data": {
      "image/png": "[encoded data removed]",
      "text/plain": [
       "<Figure size 432x288 with 1 Axes>"
      ]
     },
     "metadata": {
      "needs_background": "light"
     },
     "output_type": "display_data"
    }
   ],
   "source": [
    "fig = plt.figure()\n",
    "plt.boxplot(bank_dataset['duration'])\n",
    "plt.show"
   ]
  },
  {
   "cell_type": "code",
   "execution_count": 29,
   "id": "c56a6061",
   "metadata": {},
   "outputs": [
    {
     "data": {
      "text/plain": [
       "<function matplotlib.pyplot.show(close=None, block=None)>"
      ]
     },
     "execution_count": 29,
     "metadata": {},
     "output_type": "execute_result"
    },
    {
     "data": {
      "image/png": "[encoded data removed]",
      "text/plain": [
       "<Figure size 432x288 with 1 Axes>"
      ]
     },
     "metadata": {
      "needs_background": "light"
     },
     "output_type": "display_data"
    }
   ],
   "source": [
    "fig = plt.figure()\n",
    "plt.boxplot(bank_dataset['campaign'])\n",
    "plt.show"
   ]
  },
  {
   "cell_type": "code",
   "execution_count": 30,
   "id": "839edbc3",
   "metadata": {},
   "outputs": [
    {
     "data": {
      "text/plain": [
       "<function matplotlib.pyplot.show(close=None, block=None)>"
      ]
     },
     "execution_count": 30,
     "metadata": {},
     "output_type": "execute_result"
    },
    {
     "data": {
      "image/png": "[encoded data removed]",
      "text/plain": [
       "<Figure size 432x288 with 1 Axes>"
      ]
     },
     "metadata": {
      "needs_background": "light"
     },
     "output_type": "display_data"
    }
   ],
   "source": [
    "fig = plt.figure()\n",
    "plt.boxplot(bank_dataset['pdays'])\n",
    "plt.show"
   ]
  },
  {
   "cell_type": "code",
   "execution_count": 31,
   "id": "ee7dd931",
   "metadata": {},
   "outputs": [
    {
     "data": {
      "text/plain": [
       "<function matplotlib.pyplot.show(close=None, block=None)>"
      ]
     },
     "execution_count": 31,
     "metadata": {},
     "output_type": "execute_result"
    },
    {
     "data": {
      "image/png": "[encoded data removed]",
      "text/plain": [
       "<Figure size 432x288 with 1 Axes>"
      ]
     },
     "metadata": {
      "needs_background": "light"
     },
     "output_type": "display_data"
    }
   ],
   "source": [
    "fig = plt.figure()\n",
    "plt.boxplot(bank_dataset['previous'])\n",
    "plt.show"
   ]
  },
  {
   "cell_type": "markdown",
   "id": "ae09f0ba",
   "metadata": {},
   "source": [
    "### Clear the outliers"
   ]
  },
  {
   "cell_type": "code",
   "execution_count": 32,
   "id": "2ccb6f2a",
   "metadata": {},
   "outputs": [
    {
     "data": {
      "text/plain": [
       "(45211, 17)"
      ]
     },
     "execution_count": 32,
     "metadata": {},
     "output_type": "execute_result"
    }
   ],
   "source": [
    "bank_dataset.shape"
   ]
  },
  {
   "cell_type": "code",
   "execution_count": 33,
   "id": "cee19820",
   "metadata": {},
   "outputs": [
    {
     "name": "stderr",
     "output_type": "stream",
     "text": [
      "/var/folders/2n/4_xt4l6521375my_70gm6h2c0000gn/T/ipykernel_1449/2869997506.py:4: FutureWarning: Automatic reindexing on DataFrame vs Series comparisons is deprecated and will raise ValueError in a future version. Do `left, right = left.align(right, axis=1, copy=False)` before e.g. `left == right`\n",
      "  bank_dataset_copy = bank_dataset_copy[~((bank_dataset_copy < (Q1 - 1.5 * IQR)) |(bank_dataset_copy > (Q3 + 1.5 * IQR))).any(axis=1)]\n"
     ]
    },
    {
     "data": {
      "text/plain": [
       "(27582, 17)"
      ]
     },
     "execution_count": 33,
     "metadata": {},
     "output_type": "execute_result"
    }
   ],
   "source": [
    "# Clear outlier data from dataset\n",
    "bank_dataset_copy = bank_dataset.copy()\n",
    "\n",
    "bank_dataset_copy = bank_dataset_copy[~((bank_dataset_copy < (Q1 - 1.5 * IQR)) |(bank_dataset_copy > (Q3 + 1.5 * IQR))).any(axis=1)]\n",
    "bank_dataset_copy.shape"
   ]
  },
  {
   "cell_type": "markdown",
   "id": "39b0e29a",
   "metadata": {},
   "source": [
    "Decided not to clear the outliers because it will cut out 50% of the data, and we wouldn't want that.\n",
    "After all, from the box plot we could see that the outlier values are huddled together somehow (there isn't ONE or TWO extreme values)"
   ]
  },
  {
   "cell_type": "markdown",
   "id": "20233ec5",
   "metadata": {},
   "source": [
    "## Final dataset"
   ]
  },
  {
   "cell_type": "code",
   "execution_count": 34,
   "id": "0440e3dd",
   "metadata": {},
   "outputs": [],
   "source": [
    "# Convert the cleaned dataset to csv format\n",
    "bank_dataset.to_csv('cleaned_bank_dataset.csv', index = None, header = True)"
   ]
  }
 ],
 "metadata": {
  "kernelspec": {
   "display_name": "Python 3 (ipykernel)",
   "language": "python",
   "name": "python3"
  },
  "language_info": {
   "codemirror_mode": {
    "name": "ipython",
    "version": 3
   },
   "file_extension": ".py",
   "mimetype": "text/x-python",
   "name": "python",
   "nbconvert_exporter": "python",
   "pygments_lexer": "ipython3",
   "version": "3.10.5"
  },
  "vscode": {
   "interpreter": {
    "hash": "aee8b7b246df8f9039afb4144a1f6fd8d2ca17a180786b69acc140d282b71a49"
   }
  }
 },
 "nbformat": 4,
 "nbformat_minor": 5
}
